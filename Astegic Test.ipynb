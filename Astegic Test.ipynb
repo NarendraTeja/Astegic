{
 "cells": [
  {
   "cell_type": "code",
   "execution_count": 1,
   "metadata": {},
   "outputs": [],
   "source": [
    "import sys\n",
    "import csv\n",
    "import glob\n",
    "import pandas as pd\n",
    "\n",
    "# get data file names\n",
    "path =r'C:\\Users\\Harish Thiyyarapu\\Desktop\\Circleback_Data_Analyst_Test_Data\\customer'\n",
    "path1 = r'C:\\Users\\Harish Thiyyarapu\\Desktop\\Circleback_Data_Analyst_Test_Data\\transaction'\n",
    "\n",
    "filenames_customers = glob.glob(path + \"/*.csv\")\n",
    "filenames_transaction = glob.glob(path1 + \"/*.csv\")\n"
   ]
  },
  {
   "cell_type": "code",
   "execution_count": 2,
   "metadata": {},
   "outputs": [],
   "source": [
    "Customer_file=pd.DataFrame()\n"
   ]
  },
  {
   "cell_type": "markdown",
   "metadata": {},
   "source": [
    "# Appending All customer files"
   ]
  },
  {
   "cell_type": "code",
   "execution_count": 3,
   "metadata": {},
   "outputs": [],
   "source": [
    "for f in filenames_customers:\n",
    "    data = pd.read_csv(f,engine='python')\n",
    "    Customer_file = Customer_file.append(data,ignore_index=True ,sort=True)"
   ]
  },
  {
   "cell_type": "markdown",
   "metadata": {},
   "source": [
    "# Exporting appended data into CSV"
   ]
  },
  {
   "cell_type": "code",
   "execution_count": 5,
   "metadata": {},
   "outputs": [],
   "source": [
    "Customer_file.to_csv('customerss.csv', sep=',',index=False)"
   ]
  },
  {
   "cell_type": "code",
   "execution_count": 6,
   "metadata": {},
   "outputs": [],
   "source": [
    "Transaction_file=pd.DataFrame()\n"
   ]
  },
  {
   "cell_type": "markdown",
   "metadata": {},
   "source": [
    "# Appending All Transaction Data "
   ]
  },
  {
   "cell_type": "code",
   "execution_count": 7,
   "metadata": {},
   "outputs": [],
   "source": [
    "for f in filenames_transaction:\n",
    "    data = pd.read_csv(f,engine='python')\n",
    "    Transaction_file = Transaction_file.append(data,ignore_index=True,sort=True)\n"
   ]
  },
  {
   "cell_type": "markdown",
   "metadata": {},
   "source": [
    "# Exporting appended data into CSV"
   ]
  },
  {
   "cell_type": "code",
   "execution_count": 9,
   "metadata": {},
   "outputs": [],
   "source": [
    "Transaction_file.to_csv('Transaction.csv', sep=',',index=False)"
   ]
  },
  {
   "cell_type": "markdown",
   "metadata": {},
   "source": [
    "# transactions that took place in the State of Alaska."
   ]
  },
  {
   "cell_type": "code",
   "execution_count": 11,
   "metadata": {},
   "outputs": [],
   "source": [
    "Alaska_Transactions=Transaction_file[Transaction_file.transaction_location == 'Alaska']"
   ]
  },
  {
   "cell_type": "markdown",
   "metadata": {},
   "source": [
    "# Creat the tables in mysql DB through xampcontrol pannel v3.2.2"
   ]
  },
  {
   "cell_type": "markdown",
   "metadata": {},
   "source": [
    "# solutions for required queries"
   ]
  },
  {
   "cell_type": "markdown",
   "metadata": {},
   "source": [
    "3a solution :"
   ]
  },
  {
   "cell_type": "markdown",
   "metadata": {},
   "source": [
    "SELECT COUNT(transaction_amount) , 'Transactions greater than 200' as MESSAGE_TEXT FROM `Transaction` WHERE transaction_amount > '$200'"
   ]
  },
  {
   "cell_type": "markdown",
   "metadata": {},
   "source": [
    "3b solution :"
   ]
  },
  {
   "cell_type": "markdown",
   "metadata": {},
   "source": [
    "SELECT gender,transaction_amount FROM customers , transaction WHERE customers.id = transaction.customer_id GROUP BY gender"
   ]
  },
  {
   "cell_type": "markdown",
   "metadata": {},
   "source": [
    "3d solution :"
   ]
  },
  {
   "cell_type": "markdown",
   "metadata": {},
   "source": [
    "SELECT first_name,last_name,transaction_amount FROM customers , transaction WHERE customers.id = transaction.customer_id GROUP BY customer_id ORDER BY `transaction`.`transaction_amount` DESC LIMIT 3"
   ]
  },
  {
   "cell_type": "markdown",
   "metadata": {},
   "source": [
    "3e solution:"
   ]
  },
  {
   "cell_type": "markdown",
   "metadata": {},
   "source": [
    "SELECT customer_id,transaction_id ,SUM(transaction_amount) as 'transaction_amount' FROM transaction GROUP BY customer_id \n",
    "ORDER BY `transaction_amount`  DESC LIMIT 1"
   ]
  },
  {
   "cell_type": "code",
   "execution_count": null,
   "metadata": {},
   "outputs": [],
   "source": []
  }
 ],
 "metadata": {
  "kernelspec": {
   "display_name": "Python 3",
   "language": "python",
   "name": "python3"
  },
  "language_info": {
   "codemirror_mode": {
    "name": "ipython",
    "version": 3
   },
   "file_extension": ".py",
   "mimetype": "text/x-python",
   "name": "python",
   "nbconvert_exporter": "python",
   "pygments_lexer": "ipython3",
   "version": "3.7.0"
  }
 },
 "nbformat": 4,
 "nbformat_minor": 2
}
